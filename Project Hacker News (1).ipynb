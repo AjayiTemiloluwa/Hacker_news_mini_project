{
 "cells": [
  {
   "cell_type": "markdown",
   "metadata": {
    "collapsed": true
   },
   "source": [
    "### Introduction\n",
    "![Hacker news Logo](hacker_news.jpg)\n",
    "Hacker News is a site started by the startup incubator Y Combinator, where user-submitted stories (known as \"posts\") receive votes and comments, similar to reddit. Hacker News is extremely popular in technology and startup circles, and posts that make it to the top of the Hacker News listings can get hundreds of thousands of visitors as a result.\n",
    "\n",
    "This project is specifically interested in posts with titles that begin with either Ask HN or Show HN. Users submit Ask HN posts to ask the Hacker News community a specific question. Likewise, users submit Show HN posts to show the Hacker News community a project, product, or just something interesting. The project will compare these two types of posts to determine the following:\n",
    "\n",
    "Do Ask HN or Show HN receive more comments on average?\n",
    "Do posts created at a certain time receive more comments on average?\n",
    "\n",
    "The dataset used has 20,000 rows which is reduced from 300,000 rows by removing all submissions that didn't receive any comments and then randomly sampling from the remaining submissions. The following are key column(variable) names which were considered during this analysis:\n",
    "\n",
    "<li> id: the unique identifier from Hacker News for the post\n",
    "<li> title: the title of the post\n",
    "<li> url: the URL that the posts links to, if the post has a URL\n",
    "<li> num_points: the number of points the post acquired, calculated as the total number of upvotes minus the total number of downvotes\n",
    "<li> num_comments: the number of comments on the post\n",
    "<li>author: the username of the person who submitted the post\n",
    "<li> created_at: the date and time of the post's submission\n",
    "    \n"
   ]
  },
  {
   "cell_type": "code",
   "execution_count": 1,
   "metadata": {
    "scrolled": true
   },
   "outputs": [
    {
     "data": {
      "text/plain": [
       "[['id', 'title', 'url', 'num_points', 'num_comments', 'author', 'created_at'],\n",
       " ['12224879',\n",
       "  'Interactive Dynamic Video',\n",
       "  'http://www.interactivedynamicvideo.com/',\n",
       "  '386',\n",
       "  '52',\n",
       "  'ne0phyte',\n",
       "  '8/4/2016 11:52'],\n",
       " ['10975351',\n",
       "  'How to Use Open Source and Shut the Fuck Up at the Same Time',\n",
       "  'http://hueniverse.com/2016/01/26/how-to-use-open-source-and-shut-the-fuck-up-at-the-same-time/',\n",
       "  '39',\n",
       "  '10',\n",
       "  'josep2',\n",
       "  '1/26/2016 19:30'],\n",
       " ['11964716',\n",
       "  \"Florida DJs May Face Felony for April Fools' Water Joke\",\n",
       "  'http://www.thewire.com/entertainment/2013/04/florida-djs-april-fools-water-joke/63798/',\n",
       "  '2',\n",
       "  '1',\n",
       "  'vezycash',\n",
       "  '6/23/2016 22:20'],\n",
       " ['11919867',\n",
       "  'Technology ventures: From Idea to Enterprise',\n",
       "  'https://www.amazon.com/Technology-Ventures-Enterprise-Thomas-Byers/dp/0073523429',\n",
       "  '3',\n",
       "  '1',\n",
       "  'hswarna',\n",
       "  '6/17/2016 0:01']]"
      ]
     },
     "execution_count": 1,
     "metadata": {},
     "output_type": "execute_result"
    }
   ],
   "source": [
    "from csv import reader\n",
    "import datetime as dt\n",
    "\n",
    "#Read the hacker_news.csv file in as a list of lists\n",
    "opened_file = open('hacker_news.csv')\n",
    "read_file = reader(opened_file)\n",
    "hn = list(read_file)\n",
    "hn[:5]"
   ]
  },
  {
   "cell_type": "code",
   "execution_count": 2,
   "metadata": {},
   "outputs": [
    {
     "name": "stdout",
     "output_type": "stream",
     "text": [
      "['id', 'title', 'url', 'num_points', 'num_comments', 'author', 'created_at']\n"
     ]
    },
    {
     "data": {
      "text/plain": [
       "[['12224879',\n",
       "  'Interactive Dynamic Video',\n",
       "  'http://www.interactivedynamicvideo.com/',\n",
       "  '386',\n",
       "  '52',\n",
       "  'ne0phyte',\n",
       "  '8/4/2016 11:52'],\n",
       " ['10975351',\n",
       "  'How to Use Open Source and Shut the Fuck Up at the Same Time',\n",
       "  'http://hueniverse.com/2016/01/26/how-to-use-open-source-and-shut-the-fuck-up-at-the-same-time/',\n",
       "  '39',\n",
       "  '10',\n",
       "  'josep2',\n",
       "  '1/26/2016 19:30'],\n",
       " ['11964716',\n",
       "  \"Florida DJs May Face Felony for April Fools' Water Joke\",\n",
       "  'http://www.thewire.com/entertainment/2013/04/florida-djs-april-fools-water-joke/63798/',\n",
       "  '2',\n",
       "  '1',\n",
       "  'vezycash',\n",
       "  '6/23/2016 22:20'],\n",
       " ['11919867',\n",
       "  'Technology ventures: From Idea to Enterprise',\n",
       "  'https://www.amazon.com/Technology-Ventures-Enterprise-Thomas-Byers/dp/0073523429',\n",
       "  '3',\n",
       "  '1',\n",
       "  'hswarna',\n",
       "  '6/17/2016 0:01'],\n",
       " ['10301696',\n",
       "  'Note by Note: The Making of Steinway L1037 (2007)',\n",
       "  'http://www.nytimes.com/2007/11/07/movies/07stein.html?_r=0',\n",
       "  '8',\n",
       "  '2',\n",
       "  'walterbell',\n",
       "  '9/30/2015 4:12']]"
      ]
     },
     "execution_count": 2,
     "metadata": {},
     "output_type": "execute_result"
    }
   ],
   "source": [
    "headers = hn[0]\n",
    "hn = hn[1:]\n",
    "print(headers)\n",
    "hn[:5]"
   ]
  },
  {
   "cell_type": "code",
   "execution_count": 3,
   "metadata": {},
   "outputs": [
    {
     "name": "stdout",
     "output_type": "stream",
     "text": [
      "Number of Ask HN posts: 1744\n",
      "Number of Show HN posts: 1162\n",
      "Number of Other posts: 17194\n"
     ]
    }
   ],
   "source": [
    "ask_posts =[]\n",
    "show_posts = []\n",
    "other_posts = []\n",
    "\n",
    "for row in hn:\n",
    "    title = row[1]\n",
    "    lowercase_title = title.lower()  # Convert title to lowercase for case-insensitive comparison\n",
    "    \n",
    "    # Categorize posts based on title\n",
    "    if lowercase_title.startswith(\"ask hn\"):\n",
    "        ask_posts.append(row)\n",
    "    elif lowercase_title.startswith(\"show hn\"):\n",
    "        show_posts.append(row)\n",
    "    else:\n",
    "        other_posts.append(row)\n",
    "\n",
    "# Print the number of posts in each category\n",
    "print(\"Number of Ask HN posts:\", len(ask_posts))\n",
    "print(\"Number of Show HN posts:\", len(show_posts))\n",
    "print(\"Number of Other posts:\", len(other_posts))"
   ]
  },
  {
   "cell_type": "code",
   "execution_count": 4,
   "metadata": {},
   "outputs": [
    {
     "name": "stdout",
     "output_type": "stream",
     "text": [
      "Average number of comments on Ask HN posts: 58.0\n"
     ]
    }
   ],
   "source": [
    "total_ask_comments = 0\n",
    "for rw in ask_posts:\n",
    "    num_comments = int(row[4]) \n",
    "    total_ask_comments += num_comments\n",
    "    \n",
    "avg_ask_comments = total_ask_comments / len(ask_posts)\n",
    "print('Average number of comments on Ask HN posts:',avg_ask_comments)"
   ]
  },
  {
   "cell_type": "code",
   "execution_count": 5,
   "metadata": {},
   "outputs": [
    {
     "name": "stdout",
     "output_type": "stream",
     "text": [
      "Average number of comments on Show HN posts: 10.31669535283993\n"
     ]
    }
   ],
   "source": [
    "total_show_comments = 0\n",
    "for post in show_posts:\n",
    "    num_comments = int(post[4])  # Convert the value to an integer\n",
    "    total_show_comments += num_comments\n",
    "\n",
    "# Calculate the average number of comments on show posts\n",
    "avg_show_comments = total_show_comments / len(show_posts)\n",
    "print(\"Average number of comments on Show HN posts:\", avg_show_comments)"
   ]
  },
  {
   "cell_type": "markdown",
   "metadata": {},
   "source": [
    "Based on the analysis of the dataset, the Average number of comments on Ask HN posts is 58.0, while the Average number of comments on Show HN posts is 10.3. This shows that on the average, Ask HN posts are commented on 5.8 times the Show HN posts."
   ]
  },
  {
   "cell_type": "code",
   "execution_count": 7,
   "metadata": {},
   "outputs": [
    {
     "name": "stdout",
     "output_type": "stream",
     "text": [
      "[['8/16/2016 9:55', 58], ['11/22/2015 13:43', 58], ['5/2/2016 10:14', 58], ['8/2/2016 14:20', 58], ['10/15/2015 16:38', 58], ['9/26/2015 23:23', 58], ['4/22/2016 12:24', 58], ['11/16/2015 9:22', 58], ['2/24/2016 17:57', 58], ['6/4/2016 17:17', 58]]\n"
     ]
    }
   ],
   "source": [
    "result_list = []\n",
    "for post in ask_posts:\n",
    "    created_at = post[6]\n",
    "    num_comments = int(row[4]) \n",
    "    result_list.append([created_at, num_comments])\n",
    "print(result_list[:10])"
   ]
  },
  {
   "cell_type": "code",
   "execution_count": null,
   "metadata": {},
   "outputs": [],
   "source": []
  },
  {
   "cell_type": "code",
   "execution_count": 8,
   "metadata": {},
   "outputs": [],
   "source": [
    "counts_by_hour = {}\n",
    "comments_by_hour = {}\n",
    "\n",
    "for row in result_list:\n",
    "    date_str = row[0]\n",
    "    comment_count = row[1]\n",
    "    \n",
    "    # Parse the date string and extract the hour\n",
    "    date_obj = dt.datetime.strptime(date_str, \"%m/%d/%Y %H:%M\")\n",
    "    hour = date_obj.strftime(\"%H\")\n",
    "    \n",
    "    # Update counts and comments dictionaries\n",
    "    if hour not in counts_by_hour:\n",
    "        counts_by_hour[hour] = 1\n",
    "        comments_by_hour[hour] = comment_count\n",
    "    else:\n",
    "        counts_by_hour[hour] += 1\n",
    "        comments_by_hour[hour] += comment_count"
   ]
  },
  {
   "cell_type": "code",
   "execution_count": 9,
   "metadata": {},
   "outputs": [],
   "source": [
    "avg_by_hour = []\n",
    "\n",
    "for hour in counts_by_hour:\n",
    "    average_comments = comments_by_hour[hour] / counts_by_hour[hour]\n",
    "    avg_by_hour.append([hour, average_comments])\n"
   ]
  },
  {
   "cell_type": "code",
   "execution_count": 10,
   "metadata": {},
   "outputs": [
    {
     "name": "stdout",
     "output_type": "stream",
     "text": [
      "Swap Avg by Hour: [[58.0, '09'], [58.0, '13'], [58.0, '10'], [58.0, '14'], [58.0, '16'], [58.0, '23'], [58.0, '12'], [58.0, '17'], [58.0, '15'], [58.0, '21'], [58.0, '20'], [58.0, '02'], [58.0, '18'], [58.0, '03'], [58.0, '05'], [58.0, '19'], [58.0, '01'], [58.0, '22'], [58.0, '08'], [58.0, '04'], [58.0, '00'], [58.0, '06'], [58.0, '07'], [58.0, '11']]\n",
      "Top 5 Hours for Ask Posts Comments:\n",
      "23:00: 58.00 average comments per post\n",
      "22:00: 58.00 average comments per post\n",
      "21:00: 58.00 average comments per post\n",
      "20:00: 58.00 average comments per post\n",
      "19:00: 58.00 average comments per post\n"
     ]
    }
   ],
   "source": [
    "swap_avg_by_hour = []\n",
    "for row in avg_by_hour:\n",
    "    swap_avg_by_hour.append([row[1], row[0]])\n",
    "\n",
    "# Print the list with swapped columns\n",
    "print(\"Swap Avg by Hour:\", swap_avg_by_hour)\n",
    "\n",
    "# Sort the list in descending order of average comments\n",
    "sorted_swap = sorted(swap_avg_by_hour, reverse=True)\n",
    "\n",
    "# Print the top 5 hours for ask posts comments\n",
    "print(\"Top 5 Hours for Ask Posts Comments:\")\n",
    "for avg, hour in sorted_swap[:5]:\n",
    "    hour_obj = dt.datetime.strptime(hour, \"%H\")\n",
    "    formatted_hour = hour_obj.strftime(\"%H:%M\")\n",
    "    print(\"{}: {:.2f} average comments per post\".format(formatted_hour, avg))"
   ]
  }
 ],
 "metadata": {
  "kernelspec": {
   "display_name": "Python 3",
   "language": "python",
   "name": "python3"
  },
  "language_info": {
   "codemirror_mode": {
    "name": "ipython",
    "version": 3
   },
   "file_extension": ".py",
   "mimetype": "text/x-python",
   "name": "python",
   "nbconvert_exporter": "python",
   "pygments_lexer": "ipython3",
   "version": "3.8.2"
  }
 },
 "nbformat": 4,
 "nbformat_minor": 2
}
